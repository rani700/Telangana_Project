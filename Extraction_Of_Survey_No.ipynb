{
 "cells": [
  {
   "cell_type": "code",
   "execution_count": 1,
   "id": "67ec1853-c6d4-44df-b537-913fa74418d7",
   "metadata": {},
   "outputs": [],
   "source": [
    "##program"
   ]
  },
  {
   "cell_type": "code",
   "execution_count": 1,
   "id": "23b0de08-5954-4014-9d48-abc12b6b64b8",
   "metadata": {},
   "outputs": [
    {
     "name": "stdout",
     "output_type": "stream",
     "text": [
      "Defaulting to user installation because normal site-packages is not writeable\n",
      "Requirement already satisfied: requests in ./.local/lib/python3.8/site-packages (2.31.0)\n",
      "Requirement already satisfied: charset-normalizer<4,>=2 in ./.local/lib/python3.8/site-packages (from requests) (3.3.0)\n",
      "Requirement already satisfied: idna<4,>=2.5 in /usr/lib/python3/dist-packages (from requests) (2.8)\n",
      "Requirement already satisfied: urllib3<3,>=1.21.1 in ./.local/lib/python3.8/site-packages (from requests) (2.1.0)\n",
      "Requirement already satisfied: certifi>=2017.4.17 in /usr/lib/python3/dist-packages (from requests) (2019.11.28)\n",
      "\n",
      "\u001b[1m[\u001b[0m\u001b[34;49mnotice\u001b[0m\u001b[1;39;49m]\u001b[0m\u001b[39;49m A new release of pip is available: \u001b[0m\u001b[31;49m23.2.1\u001b[0m\u001b[39;49m -> \u001b[0m\u001b[32;49m24.0\u001b[0m\n",
      "\u001b[1m[\u001b[0m\u001b[34;49mnotice\u001b[0m\u001b[1;39;49m]\u001b[0m\u001b[39;49m To update, run: \u001b[0m\u001b[32;49mpython3 -m pip install --upgrade pip\u001b[0m\n",
      "Note: you may need to restart the kernel to use updated packages.\n"
     ]
    }
   ],
   "source": [
    "pip install requests"
   ]
  },
  {
   "cell_type": "code",
   "execution_count": 2,
   "id": "fddec567-6800-4c01-a6a3-050279e53ce6",
   "metadata": {},
   "outputs": [],
   "source": [
    "import requests\n",
    "import pandas as pd\n",
    "import numpy as np\n",
    "from bs4 import BeautifulSoup, NavigableString, Tag"
   ]
  },
  {
   "cell_type": "code",
   "execution_count": 3,
   "id": "cfd64a16-81c4-4371-8a12-335848b8a7b7",
   "metadata": {},
   "outputs": [],
   "source": [
    "r = requests.get(\"https://dharani.telangana.gov.in/knowLandStatus\")"
   ]
  },
  {
   "cell_type": "code",
   "execution_count": 4,
   "id": "d79f92d4-5e97-4b00-ac03-c7591f1ec62b",
   "metadata": {},
   "outputs": [],
   "source": [
    "soup = BeautifulSoup(r.content, 'html.parser')"
   ]
  },
  {
   "cell_type": "code",
   "execution_count": 5,
   "id": "4dde75b6-fee7-4a1a-a2e1-aee061274e21",
   "metadata": {},
   "outputs": [],
   "source": [
    "district_no = []\n",
    "districts_mapping = {}\n",
    "s = soup.find(\"select\", {\"class\":\"form-control form-control-sm my-2\"}).children\n",
    "for i in s:\n",
    "  if isinstance(i, NavigableString):\n",
    "        continue\n",
    "  if isinstance(i, Tag):\n",
    "      index = i[\"value\"]\n",
    "      if index == \"0\":\n",
    "          continue\n",
    "      content = i.string.strip()\n",
    "      # print(i.string.strip())\n",
    "      districts_mapping[index] = content\n",
    "      district_no.append(i[\"value\"])\n"
   ]
  },
  {
   "cell_type": "code",
   "execution_count": 6,
   "id": "5d9acc3d-4964-4053-807a-920675b84054",
   "metadata": {},
   "outputs": [],
   "source": [
    "def getContent(i, type):\n",
    "    mapping = {}\n",
    "    url = \"\"\n",
    "    if type == 'district':\n",
    "        url = \"https://dharani.telangana.gov.in/getMandalFromDivisionCitizenPortal?district=\"+str(i)\n",
    "    if type == 'mandal':\n",
    "        url = \"https://dharani.telangana.gov.in/getVillageFromMandalCitizenPortal?mandalId=\"+str(i)\n",
    "    if type == 'village':\n",
    "        url = \"https://dharani.telangana.gov.in/getSurveyCitizen?villId=\"+str(i)+\"&flag=survey\"\n",
    "    r = requests.get(url)\n",
    "    soup = BeautifulSoup(r.content, 'html.parser')\n",
    "    # print(soup)\n",
    "    s = soup.find(\"body\").children\n",
    "    idList = []\n",
    "    for i in s:\n",
    "      if isinstance(i, NavigableString):\n",
    "            continue\n",
    "      if isinstance(i, Tag):\n",
    "          index = i[\"value\"]\n",
    "          if index == \"0\":\n",
    "              continue\n",
    "          content = i.string.strip()\n",
    "          # print(i.string.strip())\n",
    "          mapping[index] = content\n",
    "          \n",
    "\n",
    "    return mapping"
   ]
  },
  {
   "cell_type": "code",
   "execution_count": 7,
   "id": "fc82ee9c-b6c7-4a27-8b42-1a624cc75d64",
   "metadata": {},
   "outputs": [
    {
     "name": "stdout",
     "output_type": "stream",
     "text": [
      "id :  13       district :  Adilabad|ఆదిలాబాద్\n",
      "id :  27       district :  Bhadradri Kothagudem|భద్రాద్రి కొత్తగూడెం\n",
      "id :  35       district :  Hanumakonda|హనుమకొండ\n",
      "id :  18       district :  Jagtial|జగిత్యాల్\n",
      "id :  23       district :  Jangoan|జనగాం\n",
      "id :  24       district :  Jayashankar Bhupalpalli|జయశంకర్ భూపాలపల్లి\n",
      "id :  2       district :  Jogulamba Gadwal|జోగులాంబ గద్వాల\n",
      "id :  12       district :  Kamareddy|కామారెడ్డి\n",
      "id :  17       district :  Karimnagar|కరీంనగర్\n",
      "id :  26       district :  Khammam|ఖమ్మం\n",
      "id :  16       district :  Kumuram Bheem (Asifabad)|కుమురం భీమ్ (ఆసిఫాబాద్)\n",
      "id :  25       district :  Mahabubabad|మహబూబాబాద్\n",
      "id :  1       district :  Mahabubnagar|మహబూబ్ నగర్\n",
      "id :  15       district :  Mancherial|మంచిర్యాల్\n",
      "id :  8       district :  Medak|మెదక్\n",
      "id :  6       district :  Medchal-Malkajigiri|మేడ్చల్-మల్కాజిగిరి\n",
      "id :  33       district :  Mulug|ములుగు\n",
      "id :  3       district :  Nagarkurnool|నాగర్ కర్నూల్\n",
      "id :  28       district :  Nalgonda|నల్గొండ\n",
      "id :  32       district :  Narayanpet|నారయణ పేట్\n",
      "id :  14       district :  Nirmal|నిర్మల్\n",
      "id :  11       district :  Nizamabad|నిజామాబాద్\n",
      "id :  20       district :  Peddapalli|పెద్దపల్లి\n",
      "id :  19       district :  Rajanna Sircilla|రాజన్నసిరిసిల్ల\n",
      "id :  5       district :  Rangareddy|రంగా రెడ్డి\n",
      "id :  9       district :  Sangareddy|సంగారెడ్డి\n",
      "id :  10       district :  Siddipet|సిద్దిపేట్\n",
      "id :  29       district :  Suryapet|సూర్యాపేట\n",
      "id :  7       district :  Vikarabad|వికారాబాద్\n",
      "id :  4       district :  Wanaparthy|వనపర్తి\n",
      "id :  34       district :  Warangal|వరంగల్\n",
      "id :  30       district :  Yadadri Bhuvanagiri|యాదాద్రి భువనగిరి\n"
     ]
    }
   ],
   "source": [
    "\n",
    "for i in districts_mapping:\n",
    "    print(\"id : \",i, \"     \",\"district : \", districts_mapping[i])"
   ]
  },
  {
   "cell_type": "code",
   "execution_count": 8,
   "id": "9c183d54-be1a-4c8c-bf6e-80bf451c5d54",
   "metadata": {},
   "outputs": [
    {
     "name": "stdin",
     "output_type": "stream",
     "text": [
      "Enter the district id of the district which you want 9\n"
     ]
    }
   ],
   "source": [
    "d = input(\"Enter the district id of the district which you want\")"
   ]
  },
  {
   "cell_type": "code",
   "execution_count": 10,
   "id": "8f133417-6445-483f-9c1d-42b93b90a95c",
   "metadata": {},
   "outputs": [
    {
     "name": "stdout",
     "output_type": "stream",
     "text": [
      "id :  160       mandals :  Ameenpur|అమిన్ పూర్\n",
      "id :  161       mandals :  Andole|ఆందోల్\n",
      "id :  620       mandals :  Chowtakur|చౌటకూర్\n",
      "id :  162       mandals :  Gummadidala|గుమ్మడిదల\n",
      "id :  163       mandals :  Hathnoor|హత్నూర\n",
      "id :  164       mandals :  Jharasangam|ఝరాసంఘం\n",
      "id :  165       mandals :  Jinnaram|జిన్నారం\n",
      "id :  166       mandals :  Kalher|కల్హేర్\n",
      "id :  167       mandals :  Kandi|కంది\n",
      "id :  168       mandals :  Kangti|కంగ్టి\n",
      "id :  169       mandals :  Kohir|కోహిర్\n",
      "id :  170       mandals :  Kondapur|కొండాపూర్\n",
      "id :  171       mandals :  Manoor|మనూర్\n",
      "id :  172       mandals :  Mogudampally|మొగుడంపల్లి\n",
      "id :  173       mandals :  Munipally|మునిపల్లి\n",
      "id :  174       mandals :  Nagalgidda|నాగల్ గిద్ద\n",
      "id :  175       mandals :  Narayankhed|నారాయణఖేడ్\n",
      "id :  630       mandals :  Nizampet|నిజాంపేట్\n",
      "id :  176       mandals :  Nyalkal|న్యాల్ కల్\n",
      "id :  177       mandals :  Patancheru|పటాన్ చెరు\n",
      "id :  178       mandals :  Pulkal|పుల్కల్\n",
      "id :  179       mandals :  Raikode|రాయకోడ్\n",
      "id :  180       mandals :  Ramachandrapuram|రామచంద్రాపురం\n",
      "id :  181       mandals :  Sadasivpet|సదాశివపేట్\n",
      "id :  182       mandals :  Sangareddy|సంగారెడ్డి\n",
      "id :  183       mandals :  Sirgapoor|సిర్గాపూర్\n",
      "id :  184       mandals :  Vatpally|వట్ పల్లి\n",
      "id :  185       mandals :  Zahirabad|జహీరాబాద్\n"
     ]
    }
   ],
   "source": [
    "mandals = getContent(d, \"district\")\n",
    "for i in mandals:\n",
    "    print(\"id : \",i, \"     \",\"mandals : \", mandals[i])"
   ]
  },
  {
   "cell_type": "code",
   "execution_count": 12,
   "id": "ade5f437-f550-40aa-a72e-d98cca8fd5a3",
   "metadata": {},
   "outputs": [
    {
     "name": "stdin",
     "output_type": "stream",
     "text": [
      "Please enter the corresponding mandal id from the given mandal list 183\n"
     ]
    },
    {
     "name": "stdout",
     "output_type": "stream",
     "text": [
      "id :  924009       villages :  Anthergaon|అంతర్గాం\n",
      "id :  924008       villages :  Bokkasgaon|బౌక్కస్ గాం\n",
      "id :  924006       villages :  Chimal Pahad|చీమలపాడు\n",
      "id :  924001       villages :  Gardegaon|గర్దెగం\n",
      "id :  924011       villages :  Gosaipalle|గోసాయిపల్లి\n",
      "id :  924005       villages :  Goudgaon [K]|గౌడగాం(ఖాదిం)\n",
      "id :  924016       villages :  Kadpal|కడ్పల్\n",
      "id :  924012       villages :  Khajapur|ఖాజాపూర్\n",
      "id :  924014       villages :  Mubarakpoor|ముబారక్ పూర్\n",
      "id :  924010       villages :  Pochapoor|పోచాపూర్\n",
      "id :  924002       villages :  Potpalle|పొట్టిపల్లి\n",
      "id :  924007       villages :  Sangam|సంగం\n",
      "id :  924015       villages :  Sirgapoor|సిర్గాపూర్\n",
      "id :  924013       villages :  Sultanabad|సుల్తానాబాద్\n",
      "id :  924017       villages :  Ujjalampahad|ఉజ్లంపాడ్\n",
      "id :  924004       villages :  Wangdhal|వంగధల్\n",
      "id :  924003       villages :  Wasar|వాసర్\n"
     ]
    }
   ],
   "source": [
    "m = input(\"Please enter the corresponding mandal id from the given mandal list\")\n",
    "villages = getContent(m, \"mandal\")\n",
    "for i in villages:\n",
    "    print(\"id : \",i, \"     \",\"villages : \", villages[i])"
   ]
  },
  {
   "cell_type": "code",
   "execution_count": 13,
   "id": "4461e42e-36db-4c42-bb80-6cc70a812103",
   "metadata": {},
   "outputs": [
    {
     "name": "stdin",
     "output_type": "stream",
     "text": [
      "Please enter the corresponding village id from the given villages list 924017\n"
     ]
    },
    {
     "name": "stdout",
     "output_type": "stream",
     "text": [
      "survey_no :  1/à°",
      "1\n",
      "survey_no :  1/à°",
      "/1\n",
      "survey_no :  1/à°",
      "/2\n",
      "survey_no :  1/à°/2/1\n",
      "survey_no :  1/à°/2/2\n",
      "survey_no :  2\n",
      "survey_no :  2/à°\n",
      "survey_no :  3/à°",
      "1\n",
      "survey_no :  3/à°",
      "/1\n",
      "survey_no :  3/à°",
      "/2/1/1\n",
      "survey_no :  3/à°",
      "/2/1/2\n",
      "survey_no :  3/à°",
      "/2/2\n",
      "survey_no :  3/à°",
      "/3\n",
      "survey_no :  3/à°\n",
      "survey_no :  3/à°\n",
      "survey_no :  3/à°/1\n",
      "survey_no :  3/à°/2/1\n",
      "survey_no :  3/à°/2/2\n",
      "survey_no :  4\n",
      "survey_no :  5/1a\n",
      "survey_no :  5/1/à°/1\n",
      "survey_no :  5/1/à°/2\n",
      "survey_no :  5/1/à°/3\n",
      "survey_no :  5/2/à°\n",
      "survey_no :  5/2à°\n",
      "survey_no :  5/2/à°1\n",
      "survey_no :  5/2/à°2\n",
      "survey_no :  5/2/à°3\n",
      "survey_no :  5/2/à°\n",
      "survey_no :  5/3/à°",
      "/1\n",
      "survey_no :  5/3/à°",
      "/2\n",
      "survey_no :  5/à°1\n",
      "survey_no :  5/à°/1\n",
      "survey_no :  5/à°1\n",
      "survey_no :  5/à°/1\n",
      "survey_no :  5/à°/2\n",
      "survey_no :  5/à°/1\n",
      "survey_no :  5/à°/2\n",
      "survey_no :  5/à°/3\n",
      "survey_no :  5/à°/4\n",
      "survey_no :  6/1/à°",
      "1\n",
      "survey_no :  6/1/à°",
      "/1\n",
      "survey_no :  6/1/à°",
      "2/1\n",
      "survey_no :  6/1/à°",
      "2/2\n",
      "survey_no :  6/1/à°/1\n",
      "survey_no :  6/1/à°/2\n",
      "survey_no :  6/2/à°/1\n",
      "survey_no :  6/2/à°/2\n",
      "survey_no :  6/2/à°\n",
      "survey_no :  6/3/1\n",
      "survey_no :  6/3/2\n",
      "survey_no :  6/4/à°",
      "/1/1\n",
      "survey_no :  6/4/à°",
      "/1/2\n",
      "survey_no :  6/4/à°/1/1\n",
      "survey_no :  6/4/à°/1/2\n",
      "survey_no :  6/4/à°/2/1/1\n",
      "survey_no :  6/4/à°/2/1/2\n",
      "survey_no :  6/4/à°/2/2\n",
      "survey_no :  7/à°\n",
      "survey_no :  7/à°",
      "1\n",
      "survey_no :  7/à°",
      "/1\n",
      "survey_no :  7/à°",
      "/2\n",
      "survey_no :  7/à°\n",
      "survey_no :  7/à°/1\n",
      "survey_no :  7/à°\n",
      "survey_no :  7/à°\n",
      "survey_no :  7/à°\n",
      "survey_no :  7/à°/1\n",
      "survey_no :  7/à°/2\n",
      "survey_no :  8/1\n",
      "survey_no :  8/à°\n",
      "survey_no :  8/à°",
      "1\n",
      "survey_no :  8/à°\n",
      "survey_no :  8/à°\n",
      "survey_no :  8/à°\n",
      "survey_no :  9/1\n",
      "survey_no :  9/2\n",
      "survey_no :  9à°",
      "/1\n",
      "survey_no :  9à°",
      "/2\n",
      "survey_no :  9à°/1/1/1\n",
      "survey_no :  9à°/1/1/2\n",
      "survey_no :  9à°/1/2\n",
      "survey_no :  9à°/2\n",
      "survey_no :  10/1/1\n",
      "survey_no :  10/1/2\n",
      "survey_no :  10/2\n",
      "survey_no :  10/à°",
      "/1\n",
      "survey_no :  10/à°",
      "/2\n",
      "survey_no :  10/à°\n",
      "survey_no :  11/1/à°\n",
      "survey_no :  11/à°\n",
      "survey_no :  11/à°",
      "1\n",
      "survey_no :  11/à°",
      "2\n",
      "survey_no :  11/à°",
      "2/1\n",
      "survey_no :  11/à°/1\n",
      "survey_no :  11/à°/2/1/1\n",
      "survey_no :  11/à°/2/1/2\n",
      "survey_no :  11/à°/2/2\n",
      "survey_no :  11/à°/3\n",
      "survey_no :  11/à°/3/3\n",
      "survey_no :  12/à°\n",
      "survey_no :  12/à°\n",
      "survey_no :  12/à°/1\n",
      "survey_no :  12/à°/2\n",
      "survey_no :  12/à°/2/1\n",
      "survey_no :  12/à°/3\n",
      "survey_no :  12/à°\n",
      "survey_no :  13/1/1\n",
      "survey_no :  13/1/2\n",
      "survey_no :  13/2\n",
      "survey_no :  13à°",
      "/1\n",
      "survey_no :  13à°",
      "/2\n",
      "survey_no :  13à°\n",
      "survey_no :  14/1à°\n",
      "survey_no :  14/1à°",
      "/1\n",
      "survey_no :  14/1à°",
      "/2\n",
      "survey_no :  14/1à°",
      "/3/1\n",
      "survey_no :  14/1à°",
      "/3/2\n",
      "survey_no :  14/1à°\n",
      "survey_no :  14/1à°2/à°",
      "/1\n",
      "survey_no :  14/1à°2/à°",
      "/3\n",
      "survey_no :  14/1à°2/à°\n",
      "survey_no :  14/1à°/1\n",
      "survey_no :  14/1à°/2\n",
      "survey_no :  14/1à°/1\n",
      "survey_no :  14/1à°/2\n",
      "survey_no :  14/2à°",
      "/1/1/1\n",
      "survey_no :  14/2à°",
      "/1/1/2\n",
      "survey_no :  14/2à°",
      "/1/2\n",
      "survey_no :  14/2à°",
      "/2\n",
      "survey_no :  14/2à°\n",
      "survey_no :  14/2/à°/1\n",
      "survey_no :  14/2à°1\n",
      "survey_no :  14/2/à°/2\n",
      "survey_no :  14/à°/1/1/1\n",
      "survey_no :  14/à°/1/1/2\n",
      "survey_no :  14/à°/1/2\n",
      "survey_no :  15/à°",
      "/1\n",
      "survey_no :  15/à°",
      "/2\n",
      "survey_no :  15/à°\n",
      "survey_no :  15/à°/1\n",
      "survey_no :  15/à°/2\n",
      "survey_no :  15à°/1\n",
      "survey_no :  15à°/2\n",
      "survey_no :  15à°/3\n",
      "survey_no :  16/1à°\n",
      "survey_no :  16/1à°\n",
      "survey_no :  16/1à°\n",
      "survey_no :  16/1à°\n",
      "survey_no :  16/2à°\n",
      "survey_no :  16/2à°\n",
      "survey_no :  16/2à°\n",
      "survey_no :  16/2à°\n",
      "survey_no :  17/1/1\n",
      "survey_no :  17/1/2\n",
      "survey_no :  17/1à°",
      "/1\n",
      "survey_no :  17/1à°",
      "/2\n",
      "survey_no :  17/1à°",
      "/3\n",
      "survey_no :  17/1à°1/1/1/1/1\n",
      "survey_no :  17/1à°1/1/1/1/2\n",
      "survey_no :  17/1à°1/1/1/2\n",
      "survey_no :  17/1à°1/1/2\n",
      "survey_no :  17/1à°1/2/1/1\n",
      "survey_no :  17/1à°1/2/1/2\n",
      "survey_no :  17/1à°1/2/2\n",
      "survey_no :  17/1à°/1\n",
      "survey_no :  17/1à°/2\n",
      "survey_no :  17/2à°",
      "/1\n",
      "survey_no :  17/2à°",
      "/2/1\n",
      "survey_no :  17/2à°",
      "/2/2\n",
      "survey_no :  17/2à°",
      "/3\n",
      "survey_no :  17/2à°",
      "/4/1\n",
      "survey_no :  17/2à°",
      "/4/2\n",
      "survey_no :  17/2à°",
      "/5\n",
      "survey_no :  17/2à°\n",
      "survey_no :  17/2à°/2\n",
      "survey_no :  17/à°",
      "1\n",
      "survey_no :  17/à°",
      "2/1\n",
      "survey_no :  17/à°",
      "2/2\n",
      "survey_no :  17/à°1\n",
      "survey_no :  18/1\n",
      "survey_no :  18/1/à°\n",
      "survey_no :  18/1à°",
      "/1/1\n",
      "survey_no :  18/1à°",
      "1/1\n",
      "survey_no :  18/1à°",
      "/1/2\n",
      "survey_no :  18/1à°",
      "1/2\n",
      "survey_no :  18/1à°",
      "2\n",
      "survey_no :  18/1à°",
      "/2\n",
      "survey_no :  18/1à°",
      "4\n",
      "survey_no :  18/1à°",
      "5\n",
      "survey_no :  18/1à°3\n",
      "survey_no :  18/1à°/1\n",
      "survey_no :  18/1à°/2\n",
      "survey_no :  18/2/à°\n",
      "survey_no :  18/2à°/1/1/1\n",
      "survey_no :  18/2à°/1/1/2\n",
      "survey_no :  18/2à°/1/2\n",
      "survey_no :  18/2à°/2\n",
      "survey_no :  19\n",
      "survey_no :  19à°\n",
      "survey_no :  20/1\n",
      "survey_no :  20/2/1\n",
      "survey_no :  20/2/2\n",
      "survey_no :  20/3/1\n",
      "survey_no :  20/3/2\n",
      "survey_no :  20/4/1\n",
      "survey_no :  20/4/2\n",
      "survey_no :  20/5\n",
      "survey_no :  20/à°\n",
      "survey_no :  20à°",
      "/1/1/1\n",
      "survey_no :  20à°",
      "/1/1/2\n",
      "survey_no :  20à°",
      "/1/2\n",
      "survey_no :  20à°",
      "/2\n",
      "survey_no :  20à°\n",
      "survey_no :  21/à°\n",
      "survey_no :  21/à°",
      "/1/1\n",
      "survey_no :  21/à°",
      "/1/2/1/1\n",
      "survey_no :  21/à°",
      "/1/2/1/2\n",
      "survey_no :  21/à°",
      "/1/2/2\n",
      "survey_no :  21/à°",
      "/1/3\n",
      "survey_no :  21/à°\n",
      "survey_no :  21/à°\n",
      "survey_no :  21/à°/1\n",
      "survey_no :  22/à°",
      "/1\n",
      "survey_no :  22/à°",
      "/2/1\n",
      "survey_no :  22/à°",
      "/2/2\n",
      "survey_no :  22/à°",
      "/3\n",
      "survey_no :  22/à°",
      "/4\n",
      "survey_no :  22/à°",
      "/5\n",
      "survey_no :  22/à°",
      "/6\n",
      "survey_no :  22/à°/1\n",
      "survey_no :  22/à°/12/1\n",
      "survey_no :  22/à°/12/2\n",
      "survey_no :  22/à°/3\n",
      "survey_no :  23/à°\n",
      "survey_no :  23/à°/1\n",
      "survey_no :  23/à°/2\n",
      "survey_no :  23à°/1\n",
      "survey_no :  23à°/2\n",
      "survey_no :  23à°/3\n",
      "survey_no :  24/à°",
      "/1\n",
      "survey_no :  24/à°",
      "/2\n",
      "survey_no :  24/à°",
      "/3/1\n",
      "survey_no :  24/à°",
      "/3/2\n",
      "survey_no :  24/à°",
      "/4\n",
      "survey_no :  24/à°",
      "/5/1\n",
      "survey_no :  24/à°",
      "/5/2\n",
      "survey_no :  24/à°",
      "/5/3\n",
      "survey_no :  24/à°",
      "/5/4\n",
      "survey_no :  24/à°",
      "/5/5\n",
      "survey_no :  24/à°",
      "/5/6\n",
      "survey_no :  24/à°/1/1\n",
      "survey_no :  24/à°/1/2\n",
      "survey_no :  24/à°/1/3\n",
      "survey_no :  24/à°/2\n",
      "survey_no :  24/à°/3\n",
      "survey_no :  24/à°/4\n",
      "survey_no :  24/à°/5/1\n",
      "survey_no :  24/à°/5/2\n",
      "survey_no :  25/1\n",
      "survey_no :  25/2/1\n",
      "survey_no :  25/2/2\n",
      "survey_no :  25/2/3\n",
      "survey_no :  25/2/4\n",
      "survey_no :  25/2/5\n",
      "survey_no :  25/2à°\n",
      "survey_no :  25/3\n",
      "survey_no :  25/4\n",
      "survey_no :  26/à°\n",
      "survey_no :  26/à°/1\n",
      "survey_no :  26/à°/2\n",
      "survey_no :  26à°/1\n",
      "survey_no :  26à°/2\n",
      "survey_no :  27/1/1\n",
      "survey_no :  27/1/2\n",
      "survey_no :  27/2\n",
      "survey_no :  27à°",
      "/1/1\n",
      "survey_no :  27à°",
      "/1/2/1\n",
      "survey_no :  27à°",
      "/1/2/2\n",
      "survey_no :  27à°",
      "/2/1\n",
      "survey_no :  27à°",
      "/2/2\n",
      "survey_no :  27à°/1\n",
      "survey_no :  27à°/2\n",
      "survey_no :  27à°/1/1\n",
      "survey_no :  27à°/1/2\n",
      "survey_no :  27à°/2\n",
      "survey_no :  28/1\n",
      "survey_no :  28/2\n",
      "survey_no :  28/3\n",
      "survey_no :  28/à°\n",
      "survey_no :  29à°",
      "1/1\n",
      "survey_no :  29à°",
      "1/2\n",
      "survey_no :  29à°",
      "1/3\n",
      "survey_no :  29à°",
      "1/4\n",
      "survey_no :  29/à°",
      "2\n",
      "survey_no :  29/à°",
      "3\n",
      "survey_no :  29/à°",
      "3/1\n",
      "survey_no :  29/à°",
      "3/2\n",
      "survey_no :  29/à°",
      "4\n",
      "survey_no :  30/à°\n",
      "survey_no :  30/à°",
      "/1\n",
      "survey_no :  30/à°",
      "/2\n",
      "survey_no :  30/à°\n",
      "survey_no :  30/à°\n",
      "survey_no :  30/à°\n",
      "survey_no :  30/à°\n",
      "survey_no :  31/à°\n",
      "survey_no :  31/à°1\n",
      "survey_no :  31/à°/1\n",
      "survey_no :  31/à°/2\n",
      "survey_no :  31/à°/1\n",
      "survey_no :  31/à°/2/1\n",
      "survey_no :  31/à°/2/2\n",
      "survey_no :  31/à°\n",
      "survey_no :  32/1à°\n",
      "survey_no :  32/à°\n",
      "survey_no :  32/à°",
      "1\n",
      "survey_no :  32/à°",
      "2\n",
      "survey_no :  32/à°",
      "3\n",
      "survey_no :  32/à°",
      "3/1\n",
      "survey_no :  32/à°",
      "3/à°\n",
      "survey_no :  32/à°\n",
      "survey_no :  32à°\n",
      "survey_no :  32/à°/1\n",
      "survey_no :  32/à°/2\n",
      "survey_no :  32/à°\n",
      "survey_no :  32/à°1/\n",
      "survey_no :  32/à°2/1\n",
      "survey_no :  32/à°2/2\n",
      "survey_no :  32/à°2/3\n",
      "survey_no :  32/à°\n",
      "survey_no :  33/1/à°\n",
      "survey_no :  33/1/à°\n",
      "survey_no :  33/2/1\n",
      "survey_no :  33/2/1/2\n",
      "survey_no :  33/2/2\n",
      "survey_no :  33/2/3\n",
      "survey_no :  33/2/4/1/1\n",
      "survey_no :  33/2/4/1/2\n",
      "survey_no :  33/2/4/2\n",
      "survey_no :  33/2/5/1\n",
      "survey_no :  33/2/5/2\n",
      "survey_no :  34/1/1à°\n",
      "survey_no :  34/1/1à°\n",
      "survey_no :  34/1/1à°\n",
      "survey_no :  34/1/1à°\n",
      "survey_no :  34/1/1à°\n",
      "survey_no :  34/1/2/1\n",
      "survey_no :  34/1/2/2\n",
      "survey_no :  34/1/2/3\n",
      "survey_no :  34/1/3\n",
      "survey_no :  34/1/4à°\n",
      "survey_no :  34/1/4à°\n",
      "survey_no :  34/1/5/1\n",
      "survey_no :  34/1/5/2\n",
      "survey_no :  34/1/à°\n",
      "survey_no :  35/1/à°\n",
      "survey_no :  35/1/à°\n",
      "survey_no :  35/1/à°\n",
      "survey_no :  35/1/à°\n",
      "survey_no :  35/1/à°\n",
      "survey_no :  35/2\n",
      "survey_no :  35/2/1\n",
      "survey_no :  36\n",
      "survey_no :  37\n",
      "survey_no :  38/2/à°\n",
      "survey_no :  38/2/à°",
      "2\n",
      "survey_no :  38/2/à°\n",
      "survey_no :  38/2/à°1\n",
      "survey_no :  38/3\n",
      "survey_no :  39/à°\n",
      "survey_no :  39/à°/1\n",
      "survey_no :  39/à°/2\n",
      "survey_no :  40/1/à°\n",
      "survey_no :  40/1/à°/1\n",
      "survey_no :  40/1/à°/2\n",
      "survey_no :  40/2\n",
      "survey_no :  40/2/1\n",
      "survey_no :  40/3\n",
      "survey_no :  40/4\n",
      "survey_no :  40/4/à°/1\n",
      "survey_no :  40/5/1\n",
      "survey_no :  40/5/2\n",
      "survey_no :  40/6/1\n",
      "survey_no :  40/6/2\n",
      "survey_no :  40/7\n",
      "survey_no :  41à°",
      "/1/1\n",
      "survey_no :  41à°",
      "/1/2\n",
      "survey_no :  41à°",
      "/1/3\n",
      "survey_no :  41/à°\n",
      "survey_no :  42/11\n",
      "survey_no :  42/3/à°\n",
      "survey_no :  42/3/à°\n",
      "survey_no :  42/3/à°/1\n",
      "survey_no :  42/4/à°\n",
      "survey_no :  42/4/à°\n",
      "survey_no :  42/4/à°1\n",
      "survey_no :  42/5/à°\n",
      "survey_no :  42/5/à°\n",
      "survey_no :  42/6/à°",
      "/1/1\n",
      "survey_no :  42/6/à°",
      "/1/2\n",
      "survey_no :  42/6/à°",
      "/2\n",
      "survey_no :  42/6/à°\n",
      "survey_no :  42/7/1\n",
      "survey_no :  42/7/2\n",
      "survey_no :  42/7/3\n",
      "survey_no :  42/8/à°\n",
      "survey_no :  42/8/à°\n",
      "survey_no :  42/à°\n",
      "survey_no :  42/à°\n",
      "survey_no :  43\n",
      "survey_no :  44\n",
      "survey_no :  45/à°\n",
      "survey_no :  45/à°\n",
      "survey_no :  46/1\n",
      "survey_no :  46/1/1\n",
      "survey_no :  46/2\n",
      "survey_no :  46/3\n",
      "survey_no :  46/4/à°\n",
      "survey_no :  46/5\n",
      "survey_no :  46/e/7\n",
      "survey_no :  46/E/8\n",
      "survey_no :  46/à°/2\n",
      "survey_no :  46/à°/3\n",
      "survey_no :  46/à°/4\n",
      "survey_no :  46/à°/5\n",
      "survey_no :  46/à°/6\n",
      "survey_no :  46/à°/7\n",
      "survey_no :  46/à°/9\n",
      "survey_no :  47/à°",
      "/1\n",
      "survey_no :  47/à°",
      "/2\n",
      "survey_no :  47/à°\n",
      "survey_no :  48/a2\n",
      "survey_no :  48/AA/4\n",
      "survey_no :  48/à°",
      "1\n",
      "survey_no :  48/à°",
      "2\n",
      "survey_no :  48/à°1\n",
      "survey_no :  48/à°3/1\n",
      "survey_no :  48/à°3/2\n",
      "survey_no :  48/à°3/3\n",
      "survey_no :  48/à°4\n",
      "survey_no :  49/10/à°\n",
      "survey_no :  49/10/à°1\n",
      "survey_no :  49/10/à°2\n",
      "survey_no :  49/10/à°\n",
      "survey_no :  49/10/à°\n",
      "survey_no :  49/1/1\n",
      "survey_no :  49/12\n",
      "survey_no :  49/1/2\n",
      "survey_no :  49/1/2/1\n",
      "survey_no :  49/1/2/2\n",
      "survey_no :  49/1/2/4\n",
      "survey_no :  49/1/2à°\n",
      "survey_no :  49/12/à°\n",
      "survey_no :  49/12/à°\n",
      "survey_no :  49/13\n",
      "survey_no :  49/14\n",
      "survey_no :  49/14/1\n",
      "survey_no :  49/14/2\n",
      "survey_no :  49/14/3\n",
      "survey_no :  49/15\n",
      "survey_no :  49/16/à°\n",
      "survey_no :  49/16/à°\n",
      "survey_no :  49/16/à°/à°\n",
      "survey_no :  49/16/à°\n",
      "survey_no :  49/16/à°\n",
      "survey_no :  49/17/1\n",
      "survey_no :  49/17/1/1\n",
      "survey_no :  49/17/1/2\n",
      "survey_no :  49/17/2\n",
      "survey_no :  49/17/2à°\n",
      "survey_no :  49/17/4\n",
      "survey_no :  49/18\n",
      "survey_no :  49/1/à°\n",
      "survey_no :  49/2/à°\n",
      "survey_no :  49/2/à°\n",
      "survey_no :  49/2/à°\n",
      "survey_no :  49/2/à°/1\n",
      "survey_no :  49/2/à°/2\n",
      "survey_no :  49/3/à°\n",
      "survey_no :  49/3/à°\n",
      "survey_no :  49/3/à°1\n",
      "survey_no :  49/3/à°2\n",
      "survey_no :  49/3/à°3\n",
      "survey_no :  49/3/à°4\n",
      "survey_no :  49/4/à°",
      "/1\n",
      "survey_no :  49/4/à°",
      "/2\n",
      "survey_no :  49/4/à°",
      "/3\n",
      "survey_no :  49/4/à°",
      "/3/1\n",
      "survey_no :  49/4/à°",
      "/4\n",
      "survey_no :  49/4/à°",
      "/5/1\n",
      "survey_no :  49/4/à°",
      "/5/2\n",
      "survey_no :  49/6/2\n",
      "survey_no :  49/6/3\n",
      "survey_no :  49/6/4\n",
      "survey_no :  49/6/à°",
      "/1\n",
      "survey_no :  49/6/à°",
      "/3/1\n",
      "survey_no :  49/6/à°",
      "/3/2\n",
      "survey_no :  49/6/à°",
      "/3/3\n",
      "survey_no :  49/6/à°",
      "/4\n",
      "survey_no :  49/6/à°",
      "/5\n",
      "survey_no :  49/6/à°1\n",
      "survey_no :  49/7/à°\n",
      "survey_no :  49/7/à°",
      "/1\n",
      "survey_no :  49/7/à°",
      "/2\n",
      "survey_no :  49/7/à°",
      "/3\n",
      "survey_no :  49/7/à°\n",
      "survey_no :  49/7/à°\n",
      "survey_no :  49/7/à°\n",
      "survey_no :  49/8/à°\n",
      "survey_no :  49/8/à°",
      "/1\n",
      "survey_no :  49/8/à°",
      "/2\n",
      "survey_no :  49/8/à°",
      "/3\n",
      "survey_no :  49/8/à°\n",
      "survey_no :  49/8/à°\n",
      "survey_no :  49/8/à°2\n",
      "survey_no :  49/9/1à°\n",
      "survey_no :  49/9/1à°\n",
      "survey_no :  49/9/1à°\n",
      "survey_no :  49/9/2\n",
      "survey_no :  49/9/2/1\n",
      "survey_no :  49/9/à°2\n",
      "survey_no :  49/à°",
      "/2\n",
      "survey_no :  49à°/3\n",
      "survey_no :  50/2/à°\n",
      "survey_no :  50/3/a/1\n",
      "survey_no :  50/3/à°",
      "/1\n",
      "survey_no :  50/3/à°",
      "/2\n",
      "survey_no :  50/3à°\n",
      "survey_no :  50/EE/2/1\n",
      "survey_no :  50/à°",
      "/1\n",
      "survey_no :  50/à°",
      "1/1\n",
      "survey_no :  50/à°",
      "2\n",
      "survey_no :  50/à°",
      "3\n",
      "survey_no :  50/à°",
      "/3\n",
      "survey_no :  50/à°",
      "/3/1\n",
      "survey_no :  50/à°",
      "4\n",
      "survey_no :  50/à°",
      "/4\n",
      "survey_no :  50/à°\n",
      "survey_no :  50/à°/2\n",
      "survey_no :  50/à°/1\n",
      "survey_no :  50/à°/2\n",
      "survey_no :  50/à°/5\n",
      "survey_no :  50/à°/6\n",
      "survey_no :  50/à°/7\n",
      "survey_no :  50/à°3/1\n",
      "survey_no :  51\n",
      "survey_no :  51à°",
      "/1/1/1\n",
      "survey_no :  51à°",
      "/1/1/2\n",
      "survey_no :  51à°",
      "/1/2\n",
      "survey_no :  51à°",
      "/2\n",
      "survey_no :  51à°/1\n",
      "survey_no :  51à°/2\n",
      "survey_no :  51à°\n",
      "survey_no :  51à°\n",
      "survey_no :  51à°/1/1\n",
      "survey_no :  51à°/1/2\n",
      "survey_no :  51à°/2/1/1\n",
      "survey_no :  51à°/2/1/2\n",
      "survey_no :  51à°/2/2\n",
      "survey_no :  52/à°\n",
      "survey_no :  52/à°\n",
      "survey_no :  53/A\n",
      "survey_no :  53/à°\n",
      "survey_no :  54/u/3\n",
      "survey_no :  54/u/4\n",
      "survey_no :  54/uu/1\n",
      "survey_no :  54/uu/2\n",
      "survey_no :  54/à°",
      "1\n",
      "survey_no :  54/à°",
      "/1\n",
      "survey_no :  54à°",
      "/1\n",
      "survey_no :  54/à°",
      "10/1\n",
      "survey_no :  54/à°",
      "10à°\n",
      "survey_no :  54/à°",
      "10à°\n",
      "survey_no :  54/à°",
      "/2\n",
      "survey_no :  54/à°",
      "3/1/1\n",
      "survey_no :  54/à°",
      "3/1/2\n",
      "survey_no :  54/à°",
      "3/2\n",
      "survey_no :  54/à°",
      "/4\n",
      "survey_no :  54/à°",
      "5/1\n",
      "survey_no :  54/à°",
      "5/2\n",
      "survey_no :  54/à°",
      "6\n",
      "survey_no :  54/à°",
      "6/1\n",
      "survey_no :  54/à°",
      "7\n",
      "survey_no :  54/à°",
      "8\n",
      "survey_no :  54/à°",
      "8/1/1\n",
      "survey_no :  54/à°",
      "8/1/2\n",
      "survey_no :  54/à°/1\n",
      "survey_no :  54/à°/2\n",
      "survey_no :  54/à°\n",
      "survey_no :  54/à°1/1\n",
      "survey_no :  54/à°1/2\n",
      "survey_no :  54/à°2\n",
      "survey_no :  54/à°/2/1\n",
      "survey_no :  54à°/2/1\n",
      "survey_no :  54/à°\n",
      "survey_no :  54/à°\n",
      "survey_no :  54/à°/2\n",
      "survey_no :  55a/1\n",
      "survey_no :  55/a/2\n",
      "survey_no :  55/EE\n",
      "survey_no :  55/à°",
      "/1\n",
      "survey_no :  55/à°",
      "/1à°",
      "/1/1\n",
      "survey_no :  55/à°",
      "/1à°",
      "/1/2\n",
      "survey_no :  55/à°",
      "/1à°",
      "/2\n",
      "survey_no :  55à°",
      "2\n",
      "survey_no :  55/à°",
      "2/1\n",
      "survey_no :  55/à°",
      "/3\n",
      "survey_no :  55/à°\n",
      "survey_no :  55/à°/2\n",
      "survey_no :  55/à°\n",
      "survey_no :  55/à°1\n",
      "survey_no :  55/à°/1\n",
      "survey_no :  56/2à°",
      "1\n",
      "survey_no :  56/2à°",
      "2\n",
      "survey_no :  56/2à°\n",
      "survey_no :  56/2à°/1\n",
      "survey_no :  56/3à°",
      "/1/1/1/1\n",
      "survey_no :  56/3à°",
      "1/1/1/1\n",
      "survey_no :  56/3à°",
      "/1/1/1/2\n",
      "survey_no :  56/3à°",
      "1/1/1/2\n",
      "survey_no :  56/3à°",
      "/1/1/2\n",
      "survey_no :  56/3à°",
      "1/1/2\n",
      "survey_no :  56/3à°",
      "/1/2\n",
      "survey_no :  56/3à°",
      "1/2\n",
      "survey_no :  56/3à°",
      "/2\n",
      "survey_no :  56/3à°",
      "/3\n",
      "survey_no :  56/3à°1\n",
      "survey_no :  56/3à°2\n",
      "survey_no :  56/3à°3\n",
      "survey_no :  56/3à°\n",
      "survey_no :  56/4/1\n",
      "survey_no :  56/4/1/1\n",
      "survey_no :  56/4/1/2/1\n",
      "survey_no :  56/4/1/2/2\n",
      "survey_no :  56/4/1/2à°\n",
      "survey_no :  56/4/2\n",
      "survey_no :  57/3/à°",
      "1\n",
      "survey_no :  57/3/à°",
      "2/1\n",
      "survey_no :  57/3/à°",
      "2/2\n",
      "survey_no :  57/à°",
      "1\n",
      "survey_no :  57/à°",
      "2\n",
      "survey_no :  57/à°",
      "2/1\n",
      "survey_no :  57/à°",
      "2/2\n",
      "survey_no :  57/à°",
      "3\n",
      "survey_no :  57/à°",
      "3/1\n",
      "survey_no :  57/à°",
      "5/1\n",
      "survey_no :  57/à°",
      "5/2\n",
      "survey_no :  57/à°",
      "/à°\n",
      "survey_no :  57/à°\n",
      "survey_no :  57/à°1\n",
      "survey_no :  57à°/1/1\n",
      "survey_no :  57/à°/1/1/1\n",
      "survey_no :  57/à°/1/1/2\n",
      "survey_no :  57à°/1/2\n",
      "survey_no :  58/à°",
      "2\n",
      "survey_no :  58/à°",
      "3\n",
      "survey_no :  58/à°\n",
      "survey_no :  58/à°1\n",
      "survey_no :  58/à°/1\n",
      "survey_no :  58/à°2\n",
      "survey_no :  58/à°2/1\n",
      "survey_no :  58/à°3\n",
      "survey_no :  58/à°/1\n",
      "survey_no :  58/à°/2\n",
      "survey_no :  58/à°/2/1\n",
      "survey_no :  58/à°/3\n",
      "survey_no :  58/à°/4\n",
      "survey_no :  58/à°5\n",
      "survey_no :  58/à°6\n",
      "survey_no :  58/à°/7/1\n",
      "survey_no :  58/à°/7/2\n",
      "survey_no :  59/1\n",
      "survey_no :  59/2\n",
      "survey_no :  59/EE\n",
      "survey_no :  59/à°\n",
      "survey_no :  59/à°",
      "1\n",
      "survey_no :  59/à°",
      "2\n",
      "survey_no :  59/à°1\n",
      "survey_no :  59/à°/1\n",
      "survey_no :  59/à°/2\n",
      "survey_no :  59/à°\n",
      "survey_no :  59/à°/1\n",
      "survey_no :  59/à°/1/1\n",
      "survey_no :  59/à°/2\n",
      "survey_no :  59/à°/3\n",
      "survey_no :  59/à°/4\n",
      "survey_no :  60a/8\n",
      "survey_no :  60a/9\n",
      "survey_no :  60/à°",
      "1\n",
      "survey_no :  60/à°",
      "10\n",
      "survey_no :  60/à°",
      "11\n",
      "survey_no :  60/à°",
      "2/1\n",
      "survey_no :  60/à°",
      "2/2\n",
      "survey_no :  60/à°",
      "3/1\n",
      "survey_no :  60/à°",
      "3/2\n",
      "survey_no :  60/à°",
      "4/1\n",
      "survey_no :  60/à°",
      "4/2\n",
      "survey_no :  60/à°",
      "5\n",
      "survey_no :  60/à°",
      "6\n",
      "survey_no :  60/à°",
      "7\n",
      "survey_no :  60/à°",
      "7/1\n",
      "survey_no :  60/à°",
      "8\n",
      "survey_no :  60/à°",
      "9\n",
      "survey_no :  60/à°",
      "9/1\n",
      "survey_no :  61/à°\n",
      "survey_no :  61/à°\n",
      "survey_no :  61/à°\n",
      "survey_no :  61/à°\n",
      "survey_no :  61/à°/1\n",
      "survey_no :  62\n",
      "survey_no :  62/a/1/1\n",
      "survey_no :  62/a/1/2\n",
      "survey_no :  62/à°",
      "1\n",
      "survey_no :  62/à°",
      "/1\n",
      "survey_no :  62/à°",
      "/2\n",
      "survey_no :  62/à°\n",
      "survey_no :  62/à°/à°\n",
      "survey_no :  62/à°/à°\n",
      "survey_no :  62/à°\n",
      "survey_no :  63/1\n",
      "survey_no :  63/2\n",
      "survey_no :  64\n",
      "survey_no :  64/à°/1\n",
      "survey_no :  64/à°/2\n",
      "survey_no :  65\n",
      "survey_no :  65/1\n",
      "survey_no :  65/1à°",
      "/1/1\n",
      "survey_no :  65/1à°",
      "/1/2\n",
      "survey_no :  65/1à°",
      "/2\n",
      "survey_no :  65/1/à°/1\n",
      "survey_no :  65/1à°1\n",
      "survey_no :  65/1à°/1/1\n",
      "survey_no :  65/1à°/1/2\n",
      "survey_no :  65/1/à°/2\n",
      "survey_no :  65/1à°2/1\n",
      "survey_no :  65/1à°3/1\n",
      "survey_no :  65/1à°3/2\n",
      "survey_no :  65/2\n",
      "survey_no :  66/1\n",
      "survey_no :  66/1/1\n",
      "survey_no :  66/1/1/1\n",
      "survey_no :  66/2/1/1/1\n",
      "survey_no :  66/2/1/1/2\n",
      "survey_no :  66/2/1/2\n",
      "survey_no :  66/2/1à°\n",
      "survey_no :  66/2/2/1/1/1\n",
      "survey_no :  66/2/2/1/1/2\n",
      "survey_no :  66/2/2/1/2\n",
      "survey_no :  66/2/2/2\n",
      "survey_no :  66/2/3\n",
      "survey_no :  66/3à°",
      "/1\n",
      "survey_no :  66/3à°",
      "/2\n",
      "survey_no :  66/3à°",
      "/3\n",
      "survey_no :  66/3à°",
      "/4\n",
      "survey_no :  66/3à°\n",
      "survey_no :  66/4\n",
      "survey_no :  66/4/1\n",
      "survey_no :  66/5\n",
      "survey_no :  66/6\n"
     ]
    }
   ],
   "source": [
    "v = input(\"Please enter the corresponding village id from the given villages list\")\n",
    "survey_no = getContent(v, \"village\")\n",
    "for i in survey_no:\n",
    "    print(\"survey_no : \", survey_no[i])"
   ]
  },
  {
   "cell_type": "code",
   "execution_count": 14,
   "id": "85abb5c8-9891-4754-a62e-b96fda8b1556",
   "metadata": {},
   "outputs": [
    {
     "name": "stdout",
     "output_type": "stream",
     "text": [
      "Here is your required survey_no. Enjoy!!\n"
     ]
    }
   ],
   "source": [
    "print(\"Here is your required survey_no. Enjoy!!\")"
   ]
  },
  {
   "cell_type": "code",
   "execution_count": null,
   "id": "70fc5691-f823-44b9-98a2-e8c8e5fd53fc",
   "metadata": {},
   "outputs": [],
   "source": []
  }
 ],
 "metadata": {
  "kernelspec": {
   "display_name": "Python 3 (ipykernel)",
   "language": "python",
   "name": "python3"
  },
  "language_info": {
   "codemirror_mode": {
    "name": "ipython",
    "version": 3
   },
   "file_extension": ".py",
   "mimetype": "text/x-python",
   "name": "python",
   "nbconvert_exporter": "python",
   "pygments_lexer": "ipython3",
   "version": "3.8.10"
  }
 },
 "nbformat": 4,
 "nbformat_minor": 5
}
